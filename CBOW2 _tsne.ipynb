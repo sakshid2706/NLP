{
  "nbformat": 4,
  "nbformat_minor": 0,
  "metadata": {
    "colab": {
      "provenance": []
    },
    "kernelspec": {
      "name": "python3",
      "display_name": "Python 3"
    },
    "language_info": {
      "name": "python"
    }
  },
  "cells": [
    {
      "cell_type": "code",
      "execution_count": 1,
      "metadata": {
        "id": "wz6jvhx5x_gT"
      },
      "outputs": [],
      "source": [
        "import torch \n",
        "import torch.nn as nn\n",
        "import numpy as np\n",
        "import torch.nn.functional as F"
      ]
    },
    {
      "cell_type": "code",
      "source": [
        "raw_data=\"\"\"There is no better teacher in life than failure. Failure brings the opportunity to learn things better.\n",
        "It helps us in learning from our mistakes. Failures make us rethink and reconsider to find new ways and strategies to achieve our goals. \n",
        "Failure helps us in gaining deeper experience and better knowledge that widens our ways of growth. It plants deep value within us so that \n",
        "we can better understand life and the world around us. Every ‘failed attempt’ simply becomes a new learning experience to fine-tune our efforts. \n",
        "Failure is, in fact, the most valuable experience that teaches us new things. Failures helps us understand the meaning of hard work. \"\"\"\n",
        "raw_data=raw_data.split()\n",
        "#context word window size\n",
        "context_words=2 #2 to the left and 2 to the right\n",
        "\n",
        "#no of hidden layers or length of embeddings(since both are equivalent)\n",
        "n=100\n",
        "vocab=set(raw_data)\n",
        "vocab_size=len(vocab)\n",
        "\n",
        "dict_word_to_ix = {word:ix for ix, word in enumerate(vocab)}\n",
        "dict_ix_to_word = {ix:word for ix, word in enumerate(vocab)}"
      ],
      "metadata": {
        "id": "MV1qYMoyzSYV"
      },
      "execution_count": 2,
      "outputs": []
    },
    {
      "cell_type": "code",
      "source": [
        "context_data=[]\n",
        "target_labels=[]\n",
        "for i in range(2, len(raw_data) - 2):\n",
        "  #storing the context words index\n",
        "  context_vec=[dict_word_to_ix[raw_data[i - 2]],dict_word_to_ix[raw_data[i-1]],dict_word_to_ix[raw_data[i+1]],dict_word_to_ix[raw_data[i+2]]]\n",
        "  context_vec=torch.Tensor(context_vec)\n",
        "  context_vec=context_vec.long()\n",
        "  #Converting the context word index to one-hot vector using nn.functional.one_hot\n",
        "  context=F.one_hot(context_vec,vocab_size)\n",
        "  context=torch.sum(context,dim=0,keepdim=True)\n",
        "  #Working on target \n",
        "  target=dict_word_to_ix[raw_data[i]]\n",
        "  target=torch.tensor(target)\n",
        "  target_labels.append(target)\n",
        "  target=F.one_hot(target,num_classes=vocab_size)\n",
        "  context_data.append((context,target))\n",
        "\n",
        "# print(context_data)\n",
        "# context=context_data\n",
        "# print(context)"
      ],
      "metadata": {
        "id": "l0be1r64zxcg"
      },
      "execution_count": 3,
      "outputs": []
    },
    {
      "cell_type": "code",
      "source": [
        "class CBOW(nn.Module):\n",
        "    def __init__(self,vocab_size,em_size):\n",
        "      super(CBOW,self).__init__()\n",
        "\n",
        "      self.linear1=nn.Linear(vocab_size,em_size,bias=False)\n",
        "      self.act1=nn.ReLU()\n",
        "      self.linear2=nn.Linear(em_size,em_size)\n",
        "      self.act2=nn.ReLU()\n",
        "      self.linear3=nn.Linear(em_size,vocab_size)\n",
        "      self.act3=nn.Softmax(dim=-1)\n",
        "\n",
        "\n",
        "    def forward(self,input):\n",
        "      out=self.linear1(input)\n",
        "      out=self.act1(out)\n",
        "      out=self.linear2(out)\n",
        "      out=self.act2(out)\n",
        "      out=self.linear3(out)\n",
        "      out=self.act3(out)\n",
        "\n",
        "      return out"
      ],
      "metadata": {
        "id": "VHJfn47zz31M"
      },
      "execution_count": 4,
      "outputs": []
    },
    {
      "cell_type": "code",
      "source": [
        "model=CBOW(vocab_size,n)\n",
        "# criterion=nn.NLLLoss()\n",
        "criterion = nn.CrossEntropyLoss()\n",
        "optimizer=torch.optim.SGD(model.parameters(), lr=0.3)\n",
        "# optimizer = torch.optim.Adam(model.parameters(), lr=0.01)"
      ],
      "metadata": {
        "id": "zjIAjCFDz5RA"
      },
      "execution_count": 5,
      "outputs": []
    },
    {
      "cell_type": "code",
      "source": [
        "loss_func = []\n",
        "accuracy = []\n",
        "\n",
        "for i in range(0,700):\n",
        "  loss = 0\n",
        "  acc = 0\n",
        "  for k, (context, target) in enumerate(context_data):\n",
        "    output = model(context.float())\n",
        "    loss += criterion(output.squeeze(0), target.float())\n",
        "    _, predicted = torch.max(output.data , 1)\n",
        "    if(predicted == target_labels[k]):\n",
        "      acc += 1\n",
        "  loss_func.append(float(loss))\n",
        "  accuracy.append(acc/n*100)\n",
        "  if(i%20 == 0):\n",
        "    print(loss)\n",
        "    print(acc/n*100)\n",
        "  optimizer.zero_grad()\n",
        "  loss.backward()\n",
        "  optimizer.step()"
      ],
      "metadata": {
        "id": "fRI6gNlGkqKk",
        "colab": {
          "base_uri": "https://localhost:8080/"
        },
        "outputId": "e24cbcfe-17e3-40f2-f9cc-7c10dad5f5ef"
      },
      "execution_count": 6,
      "outputs": [
        {
          "output_type": "stream",
          "name": "stdout",
          "text": [
            "tensor(451.8500, grad_fn=<AddBackward0>)\n",
            "2.0\n",
            "tensor(451.5211, grad_fn=<AddBackward0>)\n",
            "6.0\n",
            "tensor(445.1399, grad_fn=<AddBackward0>)\n",
            "11.0\n",
            "tensor(438.6715, grad_fn=<AddBackward0>)\n",
            "14.000000000000002\n",
            "tensor(425.8310, grad_fn=<AddBackward0>)\n",
            "28.999999999999996\n",
            "tensor(419.7573, grad_fn=<AddBackward0>)\n",
            "35.0\n",
            "tensor(412.4247, grad_fn=<AddBackward0>)\n",
            "41.0\n",
            "tensor(409.5650, grad_fn=<AddBackward0>)\n",
            "44.0\n",
            "tensor(404.9312, grad_fn=<AddBackward0>)\n",
            "49.0\n",
            "tensor(397.4367, grad_fn=<AddBackward0>)\n",
            "56.99999999999999\n",
            "tensor(387.6078, grad_fn=<AddBackward0>)\n",
            "67.0\n",
            "tensor(394.2205, grad_fn=<AddBackward0>)\n",
            "60.0\n",
            "tensor(399.6051, grad_fn=<AddBackward0>)\n",
            "55.00000000000001\n",
            "tensor(389.2564, grad_fn=<AddBackward0>)\n",
            "66.0\n",
            "tensor(386.1806, grad_fn=<AddBackward0>)\n",
            "68.0\n",
            "tensor(386.1504, grad_fn=<AddBackward0>)\n",
            "68.0\n",
            "tensor(386.1151, grad_fn=<AddBackward0>)\n",
            "68.0\n",
            "tensor(385.1664, grad_fn=<AddBackward0>)\n",
            "69.0\n",
            "tensor(385.1557, grad_fn=<AddBackward0>)\n",
            "69.0\n",
            "tensor(385.1338, grad_fn=<AddBackward0>)\n",
            "69.0\n",
            "tensor(384.1772, grad_fn=<AddBackward0>)\n",
            "70.0\n",
            "tensor(384.1699, grad_fn=<AddBackward0>)\n",
            "70.0\n",
            "tensor(384.1542, grad_fn=<AddBackward0>)\n",
            "70.0\n",
            "tensor(383.1734, grad_fn=<AddBackward0>)\n",
            "71.0\n",
            "tensor(382.1911, grad_fn=<AddBackward0>)\n",
            "72.0\n",
            "tensor(382.1715, grad_fn=<AddBackward0>)\n",
            "72.0\n",
            "tensor(382.1664, grad_fn=<AddBackward0>)\n",
            "72.0\n",
            "tensor(382.1494, grad_fn=<AddBackward0>)\n",
            "72.0\n",
            "tensor(377.2377, grad_fn=<AddBackward0>)\n",
            "77.0\n",
            "tensor(377.2162, grad_fn=<AddBackward0>)\n",
            "77.0\n",
            "tensor(377.2060, grad_fn=<AddBackward0>)\n",
            "77.0\n",
            "tensor(377.2030, grad_fn=<AddBackward0>)\n",
            "77.0\n",
            "tensor(377.1997, grad_fn=<AddBackward0>)\n",
            "77.0\n",
            "tensor(377.1333, grad_fn=<AddBackward0>)\n",
            "77.0\n",
            "tensor(376.2118, grad_fn=<AddBackward0>)\n",
            "78.0\n"
          ]
        }
      ]
    },
    {
      "cell_type": "code",
      "source": [
        "import matplotlib.pyplot as plt\n",
        "plt.plot(loss_func)\n",
        "# plt.plot(loss_list)\n",
        "plt.title(\"Loss\")\n",
        "plt.show()\n",
        "plt.plot(accuracy)\n",
        "# plt.plot(accuracy_list)\n",
        "plt.title(\"Accuracy\")\n",
        "plt.show()"
      ],
      "metadata": {
        "colab": {
          "base_uri": "https://localhost:8080/",
          "height": 545
        },
        "id": "7D2Xw_uB81eh",
        "outputId": "04f59990-316a-4d7d-a156-d0ca1fe609ba"
      },
      "execution_count": 7,
      "outputs": [
        {
          "output_type": "display_data",
          "data": {
            "text/plain": [
              "<Figure size 432x288 with 1 Axes>"
            ],
            "image/png": "[encoded data removed]"
          },
          "metadata": {
            "needs_background": "light"
          }
        },
        {
          "output_type": "display_data",
          "data": {
            "text/plain": [
              "<Figure size 432x288 with 1 Axes>"
            ],
            "image/png": "[encoded data removed]"
          },
          "metadata": {
            "needs_background": "light"
          }
        }
      ]
    },
    {
      "cell_type": "code",
      "source": [
        "#Testing\n",
        "context = [\"Failure\",\"brings\",\"opportunity\", \"to\"]\n",
        "context_vector=[]\n",
        "for c in context:\n",
        "  print(c)\n",
        "  context_vector.append(dict_word_to_ix[c])\n",
        "\n",
        "context_vec=torch.Tensor(context_vector)\n",
        "context_vec=context_vec.long()\n",
        "context_vec=F.one_hot(context_vec,vocab_size)\n",
        "context_vec=torch.sum(context_vec,dim=0,keepdim=True)\n",
        "op=model(context_vec.float())\n",
        "print(op)\n",
        "l, predicted = torch.max(op.data , 1)\n",
        "print(l)\n",
        "print(predicted)\n",
        "# print(int(predicted))\n",
        "print(dict_ix_to_word[int(predicted)])\n",
        "# print(context_vector)"
      ],
      "metadata": {
        "colab": {
          "base_uri": "https://localhost:8080/"
        },
        "id": "ikpGRnUCzEUg",
        "outputId": "db107905-bd8f-4c31-bb3c-999b0547b6ce"
      },
      "execution_count": 8,
      "outputs": [
        {
          "output_type": "stream",
          "name": "stdout",
          "text": [
            "Failure\n",
            "brings\n",
            "opportunity\n",
            "to\n",
            "tensor([[3.1089e-13, 1.2329e-14, 1.4074e-13, 2.5701e-14, 4.4567e-15, 1.2326e-13,\n",
            "         4.5307e-19, 5.7911e-15, 1.0388e-09, 1.2783e-08, 6.0099e-14, 5.9254e-12,\n",
            "         3.1778e-14, 8.9168e-14, 1.0420e-17, 2.9881e-15, 1.6422e-14, 2.5199e-10,\n",
            "         8.9680e-11, 1.8023e-15, 2.9902e-08, 1.7313e-15, 3.3500e-15, 6.3260e-16,\n",
            "         9.0982e-16, 2.8595e-15, 7.8445e-14, 1.7435e-15, 2.7891e-14, 1.4619e-16,\n",
            "         6.9486e-11, 5.1368e-21, 2.2255e-11, 5.1137e-14, 8.4866e-15, 1.6219e-12,\n",
            "         5.5488e-15, 4.1260e-11, 6.6457e-15, 1.6815e-14, 1.6272e-11, 2.5504e-11,\n",
            "         4.7621e-14, 4.5170e-20, 9.5228e-11, 4.3048e-15, 2.8794e-17, 7.6408e-14,\n",
            "         1.6700e-15, 1.1912e-14, 5.8319e-15, 1.7474e-14, 3.1172e-15, 3.6843e-18,\n",
            "         6.4217e-15, 8.3246e-16, 2.9236e-17, 1.6616e-12, 3.7689e-19, 1.0967e-13,\n",
            "         3.4600e-15, 1.8326e-17, 1.6681e-07, 8.9499e-15, 7.0709e-15, 6.3272e-09,\n",
            "         1.0000e+00, 1.1365e-14, 8.5798e-15, 2.3812e-09, 1.3136e-15]],\n",
            "       grad_fn=<SoftmaxBackward0>)\n",
            "tensor([1.0000])\n",
            "tensor([66])\n",
            "the\n"
          ]
        }
      ]
    },
    {
      "cell_type": "code",
      "source": [
        "print(dict_word_to_ix)"
      ],
      "metadata": {
        "colab": {
          "base_uri": "https://localhost:8080/"
        },
        "id": "U-6wnIHr53g5",
        "outputId": "799083b1-4ab7-4fa4-ba57-96d5b51a4394"
      },
      "execution_count": 9,
      "outputs": [
        {
          "output_type": "stream",
          "name": "stdout",
          "text": [
            "{'helps': 0, 'world': 1, 'learn': 2, 'strategies': 3, 'so': 4, 'things': 5, 'new': 6, 'rethink': 7, 'brings': 8, 'opportunity': 9, 'of': 10, 'from': 11, 'gaining': 12, 'life': 13, 'we': 14, 'around': 15, 'can': 16, 'fine-tune': 17, 'teacher': 18, 'deep': 19, 'than': 20, 'efforts.': 21, 'is': 22, 'widens': 23, 'attempt’': 24, 'better': 25, 'most': 26, 'things.': 27, 'knowledge': 28, 'understand': 29, 'valuable': 30, 'Failure': 31, 'our': 32, 'that': 33, 'reconsider': 34, 'and': 35, 'better.': 36, 'within': 37, 'goals.': 38, 'is,': 39, 'fact,': 40, 'teaches': 41, 'us.': 42, 'us': 43, 'meaning': 44, 'hard': 45, 'in': 46, 'growth.': 47, 'a': 48, 'simply': 49, 'work.': 50, 'failure.': 51, 'There': 52, 'to': 53, 'deeper': 54, 'becomes': 55, 'value': 56, 'mistakes.': 57, 'no': 58, 'Failures': 59, 'find': 60, 'It': 61, 'learning': 62, 'plants': 63, '‘failed': 64, 'ways': 65, 'the': 66, 'achieve': 67, 'Every': 68, 'make': 69, 'experience': 70}\n"
          ]
        }
      ]
    },
    {
      "cell_type": "code",
      "source": [
        "print(dict_word_to_ix)\n",
        "context1=np.zeros(vocab_size)\n",
        "context1=np.array(context1)\n",
        "context1=torch.tensor(context1)\n",
        "context1[dict_word_to_ix['Failures']]=1\n",
        "context2=np.zeros(vocab_size)\n",
        "context2=np.array(context2)\n",
        "context2=torch.tensor(context2)\n",
        "context2[dict_word_to_ix['opportunity']]=1\n",
        "a=model(context1.float())\n",
        "b=model(context2.float())\n",
        "a=torch.tensor(a)\n",
        "b=torch.tensor(b)\n",
        "ang=np.arccos(np.clip(np.dot(a, b),-1.0,1.0))\n",
        "deg=ang*180/(np.pi)"
      ],
      "metadata": {
        "id": "gqBM61bW6OC6",
        "colab": {
          "base_uri": "https://localhost:8080/"
        },
        "outputId": "5759465d-bd80-4a56-86a5-b9342331ca1c"
      },
      "execution_count": 27,
      "outputs": [
        {
          "output_type": "stream",
          "name": "stdout",
          "text": [
            "{'helps': 0, 'world': 1, 'learn': 2, 'strategies': 3, 'so': 4, 'things': 5, 'new': 6, 'rethink': 7, 'brings': 8, 'opportunity': 9, 'of': 10, 'from': 11, 'gaining': 12, 'life': 13, 'we': 14, 'around': 15, 'can': 16, 'fine-tune': 17, 'teacher': 18, 'deep': 19, 'than': 20, 'efforts.': 21, 'is': 22, 'widens': 23, 'attempt’': 24, 'better': 25, 'most': 26, 'things.': 27, 'knowledge': 28, 'understand': 29, 'valuable': 30, 'Failure': 31, 'our': 32, 'that': 33, 'reconsider': 34, 'and': 35, 'better.': 36, 'within': 37, 'goals.': 38, 'is,': 39, 'fact,': 40, 'teaches': 41, 'us.': 42, 'us': 43, 'meaning': 44, 'hard': 45, 'in': 46, 'growth.': 47, 'a': 48, 'simply': 49, 'work.': 50, 'failure.': 51, 'There': 52, 'to': 53, 'deeper': 54, 'becomes': 55, 'value': 56, 'mistakes.': 57, 'no': 58, 'Failures': 59, 'find': 60, 'It': 61, 'learning': 62, 'plants': 63, '‘failed': 64, 'ways': 65, 'the': 66, 'achieve': 67, 'Every': 68, 'make': 69, 'experience': 70}\n"
          ]
        },
        {
          "output_type": "stream",
          "name": "stderr",
          "text": [
            "<ipython-input-27-ebd88df53d21>:12: UserWarning: To copy construct from a tensor, it is recommended to use sourceTensor.clone().detach() or sourceTensor.clone().detach().requires_grad_(True), rather than torch.tensor(sourceTensor).\n",
            "  a=torch.tensor(a)\n",
            "<ipython-input-27-ebd88df53d21>:13: UserWarning: To copy construct from a tensor, it is recommended to use sourceTensor.clone().detach() or sourceTensor.clone().detach().requires_grad_(True), rather than torch.tensor(sourceTensor).\n",
            "  b=torch.tensor(b)\n"
          ]
        }
      ]
    },
    {
      "cell_type": "code",
      "source": [
        "print(\"The angle between the 2 input words is: \",deg)\n",
        "# print(deg)"
      ],
      "metadata": {
        "colab": {
          "base_uri": "https://localhost:8080/"
        },
        "id": "MkB3WHm7LmEk",
        "outputId": "0d78f0bb-42a3-402d-e618-e5e2974f28e2"
      },
      "execution_count": 28,
      "outputs": [
        {
          "output_type": "stream",
          "name": "stdout",
          "text": [
            "The angle between the 2 input words is:  89.99346301119343\n"
          ]
        }
      ]
    },
    {
      "cell_type": "code",
      "source": [
        "print(torch.tensor(a))\n",
        "print(torch.tensor(a).shape)"
      ],
      "metadata": {
        "id": "ogjyPnIdLn0-",
        "colab": {
          "base_uri": "https://localhost:8080/"
        },
        "outputId": "e9969042-4adf-4147-86db-cfce8025e08b"
      },
      "execution_count": 12,
      "outputs": [
        {
          "output_type": "stream",
          "name": "stdout",
          "text": [
            "tensor([1.1513e-05, 1.8570e-05, 9.7420e-06, 1.7212e-05, 2.0312e-03, 1.5171e-05,\n",
            "        2.8691e-05, 3.6864e-06, 3.5060e-05, 1.0388e-05, 6.3770e-06, 1.7018e-02,\n",
            "        1.6483e-05, 1.4318e-05, 2.8446e-05, 4.4906e-06, 2.9293e-05, 2.1173e-04,\n",
            "        2.9268e-04, 7.6950e-06, 4.5557e-04, 8.2345e-06, 6.1050e-06, 2.2760e-05,\n",
            "        4.9656e-05, 5.4943e-05, 8.3877e-06, 1.6685e-05, 1.7900e-05, 1.5835e-06,\n",
            "        1.8307e-04, 1.8143e-07, 5.8795e-01, 6.6307e-07, 2.2154e-05, 1.8863e-07,\n",
            "        9.5096e-06, 9.2757e-05, 1.1968e-05, 2.1485e-05, 1.1208e-03, 8.7830e-06,\n",
            "        1.4531e-05, 2.5460e-01, 3.1624e-05, 1.3063e-05, 1.4401e-06, 3.7967e-04,\n",
            "        7.6254e-04, 2.6474e-05, 6.3764e-06, 1.1830e-05, 7.2902e-06, 1.2893e-07,\n",
            "        1.8770e-05, 7.8030e-05, 8.5678e-06, 1.2482e-01, 3.4574e-06, 2.0557e-04,\n",
            "        6.7190e-06, 2.7724e-05, 9.2821e-04, 2.7044e-05, 1.7707e-05, 1.1178e-04,\n",
            "        8.6910e-07, 2.9351e-06, 3.9724e-05, 7.9574e-03, 2.0516e-05])\n",
            "torch.Size([71])\n"
          ]
        },
        {
          "output_type": "stream",
          "name": "stderr",
          "text": [
            "<ipython-input-12-894a0e043148>:1: UserWarning: To copy construct from a tensor, it is recommended to use sourceTensor.clone().detach() or sourceTensor.clone().detach().requires_grad_(True), rather than torch.tensor(sourceTensor).\n",
            "  print(torch.tensor(a))\n",
            "<ipython-input-12-894a0e043148>:2: UserWarning: To copy construct from a tensor, it is recommended to use sourceTensor.clone().detach() or sourceTensor.clone().detach().requires_grad_(True), rather than torch.tensor(sourceTensor).\n",
            "  print(torch.tensor(a).shape)\n"
          ]
        }
      ]
    },
    {
      "cell_type": "code",
      "source": [
        "# for k, v in model.named_parameters():\n",
        "#     name = k\n",
        "#     param = torch.nn.Parameter(v)\n",
        "    \n",
        "\n",
        "\n",
        "# print(\"name= \",name)\n",
        "# print(\"param=\",param)"
      ],
      "metadata": {
        "id": "BFASk0T9Vt2q"
      },
      "execution_count": 13,
      "outputs": []
    },
    {
      "cell_type": "code",
      "source": [
        "for name, param in model.named_parameters():\n",
        "  if 'linear1.weight' in name:\n",
        "    embed = param.detach().numpy()\n",
        "    embed = embed.T\n",
        "    print('Embedding shape : ', embed.shape)\n",
        "    print(embed)"
      ],
      "metadata": {
        "id": "00GppXHOVx1E",
        "colab": {
          "base_uri": "https://localhost:8080/"
        },
        "outputId": "a75582cc-f8a3-4906-df57-460667f8fb51"
      },
      "execution_count": 14,
      "outputs": [
        {
          "output_type": "stream",
          "name": "stdout",
          "text": [
            "Embedding shape :  (71, 100)\n",
            "[[ 0.36278045 -0.07217863  0.17291534 ... -0.54370755  0.04549075\n",
            "   0.50453055]\n",
            " [-0.12485287 -0.10900104  0.09152599 ... -0.0804162   0.06559756\n",
            "  -0.5432801 ]\n",
            " [-0.08366196 -0.12646385 -0.16761565 ...  0.0102573  -0.00631967\n",
            "  -0.09815554]\n",
            " ...\n",
            " [ 0.03425387 -0.00621815 -0.09090924 ... -0.09593989 -0.08557427\n",
            "  -0.28820747]\n",
            " [ 0.02193282 -0.05542848  0.35263115 ...  0.13808556 -0.05024045\n",
            "   0.17345263]\n",
            " [ 0.34316736 -0.16568786 -0.39016542 ...  0.1706494   0.4175151\n",
            "   0.22767596]]\n"
          ]
        }
      ]
    },
    {
      "cell_type": "code",
      "source": [
        "from sklearn.manifold import TSNE\n",
        "from matplotlib import cm"
      ],
      "metadata": {
        "id": "rj_V-LS7Fs4O"
      },
      "execution_count": 15,
      "outputs": []
    },
    {
      "cell_type": "code",
      "source": [
        "tsne = TSNE(2, verbose=1)\n",
        "tsne_embeddings = tsne.fit_transform(embed)\n",
        "# print(tsne_embeddings)\n",
        "plt.figure(figsize=(13,7))\n",
        "plt.scatter(tsne_embeddings[:,0], tsne_embeddings[:,1])\n",
        "for i, word in enumerate(vocab):\n",
        "  plt.annotate(word,xy=(tsne_embeddings[i,0],tsne_embeddings[i,1]))"
      ],
      "metadata": {
        "colab": {
          "base_uri": "https://localhost:8080/",
          "height": 639
        },
        "id": "zaFE_AmJFY5u",
        "outputId": "45f743a6-5ef6-469a-a29f-3e5a7216d66e"
      },
      "execution_count": 16,
      "outputs": [
        {
          "output_type": "stream",
          "name": "stderr",
          "text": [
            "/usr/local/lib/python3.8/dist-packages/sklearn/manifold/_t_sne.py:780: FutureWarning: The default initialization in TSNE will change from 'random' to 'pca' in 1.2.\n",
            "  warnings.warn(\n",
            "/usr/local/lib/python3.8/dist-packages/sklearn/manifold/_t_sne.py:790: FutureWarning: The default learning rate in TSNE will change from 200.0 to 'auto' in 1.2.\n",
            "  warnings.warn(\n"
          ]
        },
        {
          "output_type": "stream",
          "name": "stdout",
          "text": [
            "[t-SNE] Computing 70 nearest neighbors...\n",
            "[t-SNE] Indexed 71 samples in 0.001s...\n",
            "[t-SNE] Computed neighbors for 71 samples in 0.005s...\n",
            "[t-SNE] Computed conditional probabilities for sample 71 / 71\n",
            "[t-SNE] Mean sigma: 1.402776\n",
            "[t-SNE] KL divergence after 250 iterations with early exaggeration: 57.624767\n",
            "[t-SNE] KL divergence after 1000 iterations: 0.377111\n"
          ]
        },
        {
          "output_type": "display_data",
          "data": {
            "text/plain": [
              "<Figure size 936x504 with 1 Axes>"
            ],
            "image/png": "[encoded data removed]"
          },
          "metadata": {
            "needs_background": "light"
          }
        }
      ]
    },
    {
      "cell_type": "code",
      "source": [
        "# def PCA(embedding):\n",
        "#   corr = np.corrcoef(embedding)\n",
        "#   values,vectors = np.linalg.eig(corr)\n",
        "#   args = (-values).argsort()\n",
        "#   values = vectors[args]\n",
        "#   vectors = vectors[:, args]\n",
        "#   new_vectors=vectors[:,:2]\n",
        "#   return np.multiply(embedding[:,:2], new_vectors)"
      ],
      "metadata": {
        "id": "KotBsheYGc9i"
      },
      "execution_count": 28,
      "outputs": []
    },
    {
      "cell_type": "code",
      "source": [
        "# pca = PCA(embed)\n",
        "# print(pca.shape)\n",
        "# plt.figure(figsize=(13,7))\n",
        "# plt.scatter(pca[:,0], pca[:,1])\n",
        "# plt.title(\"Word Embedding Space\",size=20)\n",
        "# for i, word in enumerate(vocab):\n",
        "#   plt.annotate(word,xy=(pca[i,0],pca[i,1]))"
      ],
      "metadata": {
        "id": "Q-48NAAZHiaQ"
      },
      "execution_count": 30,
      "outputs": []
    },
    {
      "cell_type": "code",
      "source": [],
      "metadata": {
        "id": "zQ_TfxXvHj8w"
      },
      "execution_count": null,
      "outputs": []
    }
  ]
}