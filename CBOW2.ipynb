{
  "nbformat": 4,
  "nbformat_minor": 0,
  "metadata": {
    "colab": {
      "provenance": []
    },
    "kernelspec": {
      "name": "python3",
      "display_name": "Python 3"
    },
    "language_info": {
      "name": "python"
    }
  },
  "cells": [
    {
      "cell_type": "code",
      "execution_count": 132,
      "metadata": {
        "id": "wz6jvhx5x_gT"
      },
      "outputs": [],
      "source": [
        "import torch \n",
        "import torch.nn as nn\n",
        "import numpy as np\n",
        "import torch.nn.functional as F"
      ]
    },
    {
      "cell_type": "code",
      "source": [
        "raw_data=\"\"\"There is no better teacher in life than failure. Failure brings the opportunity to learn things better.\n",
        "It helps us in learning from our mistakes. Failures make us rethink and reconsider to find new ways and strategies to achieve our goals. \n",
        "Failure helps us in gaining deeper experience and better knowledge that widens our ways of growth. It plants deep value within us so that \n",
        "we can better understand life and the world around us. Every ‘failed attempt’ simply becomes a new learning experience to fine-tune our efforts. \n",
        "Failure is, in fact, the most valuable experience that teaches us new things.\"\"\"\n",
        "raw_data=raw_data.split()\n",
        "#context word window size\n",
        "context_words=2 #2 to the left and 2 to the right\n",
        "\n",
        "#no of hidden layers or length of embeddings(since both are equivalent)\n",
        "n=100\n",
        "vocab=set(raw_data)\n",
        "vocab_size=len(vocab)\n",
        "\n",
        "dict_word_to_ix = {word:ix for ix, word in enumerate(vocab)}\n",
        "dict_ix_to_word = {ix:word for ix, word in enumerate(vocab)}"
      ],
      "metadata": {
        "id": "MV1qYMoyzSYV"
      },
      "execution_count": 133,
      "outputs": []
    },
    {
      "cell_type": "code",
      "source": [
        "context_data=[]\n",
        "target_labels=[]\n",
        "for i in range(2, len(raw_data) - 2):\n",
        "  #storing the context words index\n",
        "  context_vec=[dict_word_to_ix[raw_data[i - 2]],dict_word_to_ix[raw_data[i-1]],dict_word_to_ix[raw_data[i+1]],dict_word_to_ix[raw_data[i+2]]]\n",
        "  context_vec=torch.Tensor(context_vec)\n",
        "  context_vec=context_vec.long()\n",
        "  #Converting the context word index to one-hot vector using nn.functional.one_hot\n",
        "  context=F.one_hot(context_vec,vocab_size)\n",
        "  context=torch.sum(context,dim=0,keepdim=True)\n",
        "  #Working on target \n",
        "  target=dict_word_to_ix[raw_data[i]]\n",
        "  target=torch.tensor(target)\n",
        "  target_labels.append(target)\n",
        "  target=F.one_hot(target,num_classes=vocab_size)\n",
        "  context_data.append((context,target))\n",
        "\n",
        "# print(context_data)\n",
        "# context=context_data\n",
        "# print(context)"
      ],
      "metadata": {
        "id": "l0be1r64zxcg"
      },
      "execution_count": 134,
      "outputs": []
    },
    {
      "cell_type": "code",
      "source": [
        "class CBOW(nn.Module):\n",
        "    def __init__(self,vocab_size,em_size):\n",
        "      super(CBOW,self).__init__()\n",
        "\n",
        "      self.linear1=nn.Linear(vocab_size,em_size,bias=False)\n",
        "      self.act1=nn.ReLU()\n",
        "      self.linear2=nn.Linear(em_size,32)\n",
        "      self.act2=nn.ReLU()\n",
        "      self.linear3=nn.Linear(32,vocab_size)\n",
        "      self.act3=nn.Softmax(dim=-1)\n",
        "\n",
        "\n",
        "    def forward(self,input):\n",
        "      out=self.linear1(input)\n",
        "      out=self.act1(out)\n",
        "      out=self.linear2(out)\n",
        "      out=self.act2(out)\n",
        "      out=self.linear3(out)\n",
        "      out=self.act3(out)\n",
        "\n",
        "      return out"
      ],
      "metadata": {
        "id": "VHJfn47zz31M"
      },
      "execution_count": 135,
      "outputs": []
    },
    {
      "cell_type": "code",
      "source": [
        "model=CBOW(vocab_size,n)\n",
        "# criterion=nn.NLLLoss()\n",
        "criterion = nn.CrossEntropyLoss()\n",
        "optimizer=torch.optim.SGD(model.parameters(), lr=0.3)\n",
        "# optimizer = torch.optim.Adam(model.parameters(), lr=0.01)"
      ],
      "metadata": {
        "id": "zjIAjCFDz5RA"
      },
      "execution_count": 169,
      "outputs": []
    },
    {
      "cell_type": "code",
      "source": [
        "loss_func = []\n",
        "accuracy = []\n",
        "\n",
        "for i in range(0,700):\n",
        "  loss = 0\n",
        "  acc = 0\n",
        "  for k, (context, target) in enumerate(context_data):\n",
        "    output = model(context.float())\n",
        "    loss += criterion(output.squeeze(0), target.float())\n",
        "    _, predicted = torch.max(output.data , 1)\n",
        "    if(predicted == target_labels[k]):\n",
        "      acc += 1\n",
        "  loss_func.append(float(loss))\n",
        "  accuracy.append(acc/n*100)\n",
        "  if(i%20 == 0):\n",
        "    print(loss)\n",
        "    print(acc/n*100)\n",
        "  optimizer.zero_grad()\n",
        "  loss.backward()\n",
        "  optimizer.step()"
      ],
      "metadata": {
        "id": "fRI6gNlGkqKk",
        "colab": {
          "base_uri": "https://localhost:8080/"
        },
        "outputId": "0dd93509-5aa4-4737-a211-b1c93be4f727"
      },
      "execution_count": 171,
      "outputs": [
        {
          "output_type": "stream",
          "name": "stdout",
          "text": [
            "tensor(409.2818, grad_fn=<AddBackward0>)\n",
            "1.0\n",
            "tensor(409.1248, grad_fn=<AddBackward0>)\n",
            "4.0\n",
            "tensor(406.2306, grad_fn=<AddBackward0>)\n",
            "4.0\n",
            "tensor(401.0088, grad_fn=<AddBackward0>)\n",
            "9.0\n",
            "tensor(389.3633, grad_fn=<AddBackward0>)\n",
            "21.0\n",
            "tensor(385.7697, grad_fn=<AddBackward0>)\n",
            "24.0\n",
            "tensor(379.2185, grad_fn=<AddBackward0>)\n",
            "33.0\n",
            "tensor(374.8007, grad_fn=<AddBackward0>)\n",
            "36.0\n",
            "tensor(369.9908, grad_fn=<AddBackward0>)\n",
            "42.0\n",
            "tensor(371.5649, grad_fn=<AddBackward0>)\n",
            "39.0\n",
            "tensor(368.1848, grad_fn=<AddBackward0>)\n",
            "44.0\n",
            "tensor(357.8362, grad_fn=<AddBackward0>)\n",
            "54.0\n",
            "tensor(347.7860, grad_fn=<AddBackward0>)\n",
            "64.0\n",
            "tensor(358.5397, grad_fn=<AddBackward0>)\n",
            "53.0\n",
            "tensor(354.1238, grad_fn=<AddBackward0>)\n",
            "56.99999999999999\n",
            "tensor(348.6564, grad_fn=<AddBackward0>)\n",
            "63.0\n",
            "tensor(348.4323, grad_fn=<AddBackward0>)\n",
            "63.0\n",
            "tensor(346.5525, grad_fn=<AddBackward0>)\n",
            "65.0\n",
            "tensor(346.5216, grad_fn=<AddBackward0>)\n",
            "65.0\n",
            "tensor(345.4886, grad_fn=<AddBackward0>)\n",
            "66.0\n",
            "tensor(343.5267, grad_fn=<AddBackward0>)\n",
            "68.0\n",
            "tensor(342.5663, grad_fn=<AddBackward0>)\n",
            "69.0\n",
            "tensor(342.5598, grad_fn=<AddBackward0>)\n",
            "69.0\n",
            "tensor(342.5497, grad_fn=<AddBackward0>)\n",
            "69.0\n",
            "tensor(342.5405, grad_fn=<AddBackward0>)\n",
            "69.0\n",
            "tensor(342.5667, grad_fn=<AddBackward0>)\n",
            "69.0\n",
            "tensor(341.5612, grad_fn=<AddBackward0>)\n",
            "70.0\n",
            "tensor(341.5457, grad_fn=<AddBackward0>)\n",
            "70.0\n",
            "tensor(340.5672, grad_fn=<AddBackward0>)\n",
            "71.0\n",
            "tensor(340.5566, grad_fn=<AddBackward0>)\n",
            "71.0\n",
            "tensor(340.5529, grad_fn=<AddBackward0>)\n",
            "71.0\n",
            "tensor(340.5501, grad_fn=<AddBackward0>)\n",
            "71.0\n",
            "tensor(340.5484, grad_fn=<AddBackward0>)\n",
            "71.0\n",
            "tensor(340.5471, grad_fn=<AddBackward0>)\n",
            "71.0\n",
            "tensor(340.5460, grad_fn=<AddBackward0>)\n",
            "71.0\n"
          ]
        }
      ]
    },
    {
      "cell_type": "code",
      "source": [
        "import matplotlib.pyplot as plt\n",
        "plt.plot(loss_func)\n",
        "# plt.plot(loss_list)\n",
        "plt.title(\"Loss\")\n",
        "plt.show()\n",
        "plt.plot(accuracy)\n",
        "# plt.plot(accuracy_list)\n",
        "plt.title(\"Accuracy\")\n",
        "plt.show()"
      ],
      "metadata": {
        "colab": {
          "base_uri": "https://localhost:8080/",
          "height": 545
        },
        "id": "7D2Xw_uB81eh",
        "outputId": "2994ef4a-9b51-4d76-d03b-bfacfb5cbec7"
      },
      "execution_count": 172,
      "outputs": [
        {
          "output_type": "display_data",
          "data": {
            "text/plain": [
              "<Figure size 432x288 with 1 Axes>"
            ],
            "image/png": "[encoded data removed]"
          },
          "metadata": {
            "needs_background": "light"
          }
        },
        {
          "output_type": "display_data",
          "data": {
            "text/plain": [
              "<Figure size 432x288 with 1 Axes>"
            ],
            "image/png": "[encoded data removed]"
          },
          "metadata": {
            "needs_background": "light"
          }
        }
      ]
    },
    {
      "cell_type": "code",
      "source": [
        "#Testing\n",
        "context = [\"Failure\",\"brings\",\"opportunity\", \"to\"]\n",
        "context_vector=[]\n",
        "for c in context:\n",
        "  print(c)\n",
        "  context_vector.append(dict_word_to_ix[c])\n",
        "\n",
        "context_vec=torch.Tensor(context_vector)\n",
        "context_vec=context_vec.long()\n",
        "context_vec=F.one_hot(context_vec,vocab_size)\n",
        "context_vec=torch.sum(context_vec,dim=0,keepdim=True)\n",
        "op=model(context_vec.float())\n",
        "print(op)\n",
        "l, predicted = torch.max(op.data , 1)\n",
        "print(l)\n",
        "print(predicted)\n",
        "# print(int(predicted))\n",
        "print(dict_ix_to_word[int(predicted)])\n",
        "# print(context_vector)"
      ],
      "metadata": {
        "colab": {
          "base_uri": "https://localhost:8080/"
        },
        "id": "ikpGRnUCzEUg",
        "outputId": "fa6c7764-bfb9-4e25-c287-315b4629e380"
      },
      "execution_count": 173,
      "outputs": [
        {
          "output_type": "stream",
          "name": "stdout",
          "text": [
            "Failure\n",
            "brings\n",
            "opportunity\n",
            "to\n",
            "tensor([[2.6873e-20, 8.4508e-18, 3.7954e-15, 3.8486e-16, 1.9295e-13, 6.3761e-17,\n",
            "         1.4842e-15, 1.2113e-15, 8.5033e-10, 4.8385e-11, 3.8795e-15, 3.7593e-16,\n",
            "         7.7378e-13, 4.8843e-19, 6.9084e-16, 7.4393e-15, 9.9995e-01, 1.4114e-18,\n",
            "         5.1763e-19, 1.3596e-16, 2.0898e-15, 4.0621e-16, 9.3885e-07, 6.3455e-20,\n",
            "         2.3438e-06, 5.7227e-26, 2.5835e-09, 4.6998e-14, 1.4269e-13, 1.5230e-15,\n",
            "         1.3028e-14, 1.1008e-15, 5.7145e-15, 1.0802e-12, 1.4133e-09, 5.0163e-11,\n",
            "         1.2431e-16, 3.2548e-19, 1.2262e-13, 7.2132e-14, 2.4151e-07, 7.6100e-15,\n",
            "         6.0916e-13, 5.7967e-12, 1.1239e-08, 8.0118e-17, 7.3177e-16, 8.8008e-15,\n",
            "         2.7727e-15, 2.9659e-16, 5.0218e-05, 2.4453e-16, 2.7336e-32, 2.4413e-13,\n",
            "         5.8790e-11, 5.2600e-19, 2.4775e-21, 6.0540e-15, 2.8235e-13, 8.5551e-16,\n",
            "         2.3802e-15, 1.2366e-06, 2.3710e-14, 8.2449e-17, 9.7548e-16, 3.3733e-15,\n",
            "         1.9735e-16, 8.4229e-15]], grad_fn=<SoftmaxBackward0>)\n",
            "tensor([0.9999])\n",
            "tensor([16])\n",
            "the\n"
          ]
        }
      ]
    },
    {
      "cell_type": "code",
      "source": [
        "print(dict_word_to_ix)"
      ],
      "metadata": {
        "colab": {
          "base_uri": "https://localhost:8080/"
        },
        "id": "U-6wnIHr53g5",
        "outputId": "4912cf8e-f5b8-4f4b-bb6c-9546ee7cbccc"
      },
      "execution_count": 174,
      "outputs": [
        {
          "output_type": "stream",
          "name": "stdout",
          "text": [
            "{'within': 0, 'we': 1, 'deep': 2, 'in': 3, 'things': 4, 'new': 5, 'from': 6, '‘failed': 7, 'helps': 8, 'better.': 9, 'deeper': 10, 'efforts.': 11, 'teaches': 12, 'life': 13, 'opportunity': 14, 'becomes': 15, 'the': 16, 'to': 17, 'mistakes.': 18, 'Failures': 19, 'strategies': 20, 'ways': 21, 'teacher': 22, 'knowledge': 23, 'us.': 24, 'of': 25, 'and': 26, 'a': 27, 'learning': 28, 'Every': 29, 'can': 30, 'is': 31, 'than': 32, 'so': 33, 'gaining': 34, 'plants': 35, 'find': 36, 'us': 37, 'better': 38, 'attempt’': 39, 'fact,': 40, 'growth.': 41, 'rethink': 42, 'around': 43, 'brings': 44, 'things.': 45, 'failure.': 46, 'reconsider': 47, 'no': 48, 'Failure': 49, 'learn': 50, 'It': 51, 'our': 52, 'goals.': 53, 'make': 54, 'experience': 55, 'that': 56, 'widens': 57, 'world': 58, 'achieve': 59, 'value': 60, 'most': 61, 'valuable': 62, 'There': 63, 'understand': 64, 'is,': 65, 'fine-tune': 66, 'simply': 67}\n"
          ]
        }
      ]
    },
    {
      "cell_type": "code",
      "source": [
        "print(dict_word_to_ix)\n",
        "context1=np.zeros(vocab_size)\n",
        "context1=np.array(context1)\n",
        "context1=torch.tensor(context1)\n",
        "context1[dict_word_to_ix['Failures']]=1\n",
        "context2=np.zeros(vocab_size)\n",
        "context2=np.array(context2)\n",
        "context2=torch.tensor(context2)\n",
        "context2[dict_word_to_ix['deeper']]=1\n",
        "a=model(context1.float())\n",
        "b=model(context2.float())\n",
        "a=torch.tensor(a)\n",
        "b=torch.tensor(b)\n",
        "ang=np.arccos(np.clip(np.dot(a, b),-1.0,1.0))\n",
        "deg=ang*180/(np.pi)"
      ],
      "metadata": {
        "id": "gqBM61bW6OC6",
        "colab": {
          "base_uri": "https://localhost:8080/"
        },
        "outputId": "4d5ee318-e239-467c-be26-a61b02b146db"
      },
      "execution_count": 177,
      "outputs": [
        {
          "output_type": "stream",
          "name": "stdout",
          "text": [
            "{'within': 0, 'we': 1, 'deep': 2, 'in': 3, 'things': 4, 'new': 5, 'from': 6, '‘failed': 7, 'helps': 8, 'better.': 9, 'deeper': 10, 'efforts.': 11, 'teaches': 12, 'life': 13, 'opportunity': 14, 'becomes': 15, 'the': 16, 'to': 17, 'mistakes.': 18, 'Failures': 19, 'strategies': 20, 'ways': 21, 'teacher': 22, 'knowledge': 23, 'us.': 24, 'of': 25, 'and': 26, 'a': 27, 'learning': 28, 'Every': 29, 'can': 30, 'is': 31, 'than': 32, 'so': 33, 'gaining': 34, 'plants': 35, 'find': 36, 'us': 37, 'better': 38, 'attempt’': 39, 'fact,': 40, 'growth.': 41, 'rethink': 42, 'around': 43, 'brings': 44, 'things.': 45, 'failure.': 46, 'reconsider': 47, 'no': 48, 'Failure': 49, 'learn': 50, 'It': 51, 'our': 52, 'goals.': 53, 'make': 54, 'experience': 55, 'that': 56, 'widens': 57, 'world': 58, 'achieve': 59, 'value': 60, 'most': 61, 'valuable': 62, 'There': 63, 'understand': 64, 'is,': 65, 'fine-tune': 66, 'simply': 67}\n"
          ]
        },
        {
          "output_type": "stream",
          "name": "stderr",
          "text": [
            "<ipython-input-177-769cb2effcda>:12: UserWarning: To copy construct from a tensor, it is recommended to use sourceTensor.clone().detach() or sourceTensor.clone().detach().requires_grad_(True), rather than torch.tensor(sourceTensor).\n",
            "  a=torch.tensor(a)\n",
            "<ipython-input-177-769cb2effcda>:13: UserWarning: To copy construct from a tensor, it is recommended to use sourceTensor.clone().detach() or sourceTensor.clone().detach().requires_grad_(True), rather than torch.tensor(sourceTensor).\n",
            "  b=torch.tensor(b)\n"
          ]
        }
      ]
    },
    {
      "cell_type": "code",
      "source": [
        "print(deg)"
      ],
      "metadata": {
        "colab": {
          "base_uri": "https://localhost:8080/"
        },
        "id": "MkB3WHm7LmEk",
        "outputId": "65b5d135-fbaa-4803-d2b0-6e8e9494139e"
      },
      "execution_count": 178,
      "outputs": [
        {
          "output_type": "stream",
          "name": "stdout",
          "text": [
            "89.99699669382511\n"
          ]
        }
      ]
    },
    {
      "cell_type": "code",
      "source": [],
      "metadata": {
        "id": "ogjyPnIdLn0-"
      },
      "execution_count": 178,
      "outputs": []
    },
    {
      "cell_type": "code",
      "source": [],
      "metadata": {
        "id": "BFASk0T9Vt2q"
      },
      "execution_count": 178,
      "outputs": []
    },
    {
      "cell_type": "code",
      "source": [],
      "metadata": {
        "id": "00GppXHOVx1E"
      },
      "execution_count": null,
      "outputs": []
    }
  ]
}